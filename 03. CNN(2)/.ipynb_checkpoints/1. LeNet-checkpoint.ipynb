{
 "cells": [
  {
   "cell_type": "markdown",
   "metadata": {},
   "source": [
    "# LeNet"
   ]
  },
  {
   "cell_type": "markdown",
   "metadata": {},
   "source": [
    "컴퓨터 성능이 좋아지며 발전해온 여러 CNN의 Architecture에 대해 실습해보겠습니다.\n",
    "\n",
    "LeNet은 최초의 CNN 모델로 Yann LeCun에 의해 1998년에 나온 모델입니다.\n",
    "\n",
    "LeNet은 머신 러닝에서 사용하던 단순한 Fully Connected Layer(MLP)의 한계를 극복하고자 Convoultion 연산을 처음 도입한 인공신경망입니다"
   ]
  },
  {
   "cell_type": "code",
   "execution_count": 2,
   "metadata": {},
   "outputs": [
    {
     "name": "stdout",
     "output_type": "stream",
     "text": [
      "Model: \"sequential\"\n",
      "_________________________________________________________________\n",
      "Layer (type)                 Output Shape              Param #   \n",
      "=================================================================\n",
      "conv2d (Conv2D)              (None, 28, 28, 6)         156       \n",
      "_________________________________________________________________\n",
      "max_pooling2d (MaxPooling2D) (None, 14, 14, 6)         0         \n",
      "_________________________________________________________________\n",
      "conv2d_1 (Conv2D)            (None, 10, 10, 16)        2416      \n",
      "_________________________________________________________________\n",
      "max_pooling2d_1 (MaxPooling2 (None, 5, 5, 16)          0         \n",
      "_________________________________________________________________\n",
      "flatten (Flatten)            (None, 400)               0         \n",
      "_________________________________________________________________\n",
      "dense (Dense)                (None, 120)               48120     \n",
      "_________________________________________________________________\n",
      "dense_1 (Dense)              (None, 84)                10164     \n",
      "_________________________________________________________________\n",
      "dense_2 (Dense)              (None, 10)                850       \n",
      "=================================================================\n",
      "Total params: 61,706\n",
      "Trainable params: 61,706\n",
      "Non-trainable params: 0\n",
      "_________________________________________________________________\n"
     ]
    }
   ],
   "source": [
    "import tensorflow as tf\n",
    "from tensorflow import keras\n",
    "from tensorflow.keras.layers import Conv2D, MaxPool2D, Flatten, Dense\n",
    "\n",
    "# LeNet Model\n",
    "def LeNet():\n",
    "    model = keras.Sequential()\n",
    "    \n",
    "    '''\n",
    "    지시사항 1번\n",
    "    LeNet 구조를 완성하세요.\n",
    "    '''\n",
    "    # Conv 1 Layer\n",
    "    model.add(Conv2D(filters=6, kernel_size=5, strides=1, activation=tf.nn.relu, input_shape=(32,32,1)))\n",
    "    \n",
    "    # Sub Sampling Layer (Max Pooling)\n",
    "    model.add(MaxPool2D(pool_size=2, strides=2))\n",
    "    \n",
    "    # Conv 1 Layer\n",
    "    model.add(Conv2D(filters=16, kernel_size=5, strides=1, activation=tf.nn.relu, input_shape=(16,16,1)))\n",
    "            \n",
    "    \n",
    "    # Sub Sampling Layer (Max Pooling)\n",
    "    model.add(MaxPool2D(pool_size=2, strides=2))\n",
    "    \n",
    "    # Fully Connected (FC) Layer와 연결하기 위한 Flatten\n",
    "    model.add(Flatten())\n",
    "    \n",
    "    # FC1 Layer \n",
    "    model.add(Dense(units=120, activation=tf.nn.relu))\n",
    "    \n",
    "    \n",
    "    # FC2 Layer\n",
    "    model.add(Dense(units=84, activation=tf.nn.relu))\n",
    "    \n",
    "    \n",
    "    # Output Softmax\n",
    "    model.add(Dense(units=10, activation=tf.nn.softmax))\n",
    "    \n",
    "    \n",
    "    return model\n",
    "    \n",
    "lenet = LeNet()\n",
    "lenet.summary()"
   ]
  }
 ],
 "metadata": {
  "kernelspec": {
   "display_name": "Python 3",
   "language": "python",
   "name": "python3"
  },
  "language_info": {
   "codemirror_mode": {
    "name": "ipython",
    "version": 3
   },
   "file_extension": ".py",
   "mimetype": "text/x-python",
   "name": "python",
   "nbconvert_exporter": "python",
   "pygments_lexer": "ipython3",
   "version": "3.7.7"
  }
 },
 "nbformat": 4,
 "nbformat_minor": 4
}
