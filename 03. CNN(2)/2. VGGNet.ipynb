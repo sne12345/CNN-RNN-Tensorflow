{
 "cells": [
  {
   "cell_type": "markdown",
   "metadata": {},
   "source": [
    "# VGGNet"
   ]
  },
  {
   "cell_type": "markdown",
   "metadata": {},
   "source": [
    "VGGNet은 ILSVRC 2014년도에 2위를 한 모델로 모델의 깊이에 따른 변화를 비교할 수 있게 만든 모델입니다.\n",
    "\n",
    "VGGNet의 특징은 모든 Convolution Layer에 3 x 3 convolution filter를 사용한 것이 특징입니다.\n",
    "\n",
    "이전까지의 모델들은 첫 번째 Conv Layer에서는 입력 영상의 축소를 위해 11 x 11, 7 x 7의 Conv filter를 사용했습니다."
   ]
  },
  {
   "cell_type": "markdown",
   "metadata": {},
   "source": [
    "3 x 3 Conv filter를 두번 사용하면 (5 x 5)와 같고 세 번 사용하면 (7 x 7) 과 같아집니다. \n",
    "\n",
    "그러나 3 x 3을 여러번 사용하게 되면, 연산에 드는 비용이 더 적어지기 때문에 (ex, 3 x 3 x 2 = 18 vs 5 x 5 = 25) 더 높은 성능을 낼 수 있습니다."
   ]
  },
  {
   "cell_type": "code",
   "execution_count": 1,
   "metadata": {},
   "outputs": [
    {
     "name": "stdout",
     "output_type": "stream",
     "text": [
      "Model: \"sequential\"\n",
      "_________________________________________________________________\n",
      "Layer (type)                 Output Shape              Param #   \n",
      "=================================================================\n",
      "conv2d (Conv2D)              (None, 224, 224, 64)      1792      \n",
      "_________________________________________________________________\n",
      "conv2d_1 (Conv2D)            (None, 224, 224, 64)      36928     \n",
      "_________________________________________________________________\n",
      "max_pooling2d (MaxPooling2D) (None, 112, 112, 64)      0         \n",
      "_________________________________________________________________\n",
      "conv2d_2 (Conv2D)            (None, 112, 112, 128)     73856     \n",
      "_________________________________________________________________\n",
      "conv2d_3 (Conv2D)            (None, 112, 112, 128)     147584    \n",
      "_________________________________________________________________\n",
      "max_pooling2d_1 (MaxPooling2 (None, 56, 56, 128)       0         \n",
      "_________________________________________________________________\n",
      "conv2d_4 (Conv2D)            (None, 56, 56, 256)       295168    \n",
      "_________________________________________________________________\n",
      "conv2d_5 (Conv2D)            (None, 56, 56, 256)       590080    \n",
      "_________________________________________________________________\n",
      "conv2d_6 (Conv2D)            (None, 56, 56, 256)       590080    \n",
      "_________________________________________________________________\n",
      "max_pooling2d_2 (MaxPooling2 (None, 28, 28, 256)       0         \n",
      "_________________________________________________________________\n",
      "conv2d_7 (Conv2D)            (None, 28, 28, 512)       1180160   \n",
      "_________________________________________________________________\n",
      "conv2d_8 (Conv2D)            (None, 28, 28, 512)       2359808   \n",
      "_________________________________________________________________\n",
      "conv2d_9 (Conv2D)            (None, 28, 28, 512)       2359808   \n",
      "_________________________________________________________________\n",
      "max_pooling2d_3 (MaxPooling2 (None, 14, 14, 512)       0         \n",
      "_________________________________________________________________\n",
      "conv2d_10 (Conv2D)           (None, 14, 14, 512)       2359808   \n",
      "_________________________________________________________________\n",
      "conv2d_11 (Conv2D)           (None, 14, 14, 512)       2359808   \n",
      "_________________________________________________________________\n",
      "conv2d_12 (Conv2D)           (None, 14, 14, 512)       2359808   \n",
      "_________________________________________________________________\n",
      "max_pooling2d_4 (MaxPooling2 (None, 7, 7, 512)         0         \n",
      "_________________________________________________________________\n",
      "flatten (Flatten)            (None, 25088)             0         \n",
      "_________________________________________________________________\n",
      "dense (Dense)                (None, 4096)              102764544 \n",
      "_________________________________________________________________\n",
      "dense_1 (Dense)              (None, 4096)              16781312  \n",
      "_________________________________________________________________\n",
      "dense_2 (Dense)              (None, 1000)              4097000   \n",
      "=================================================================\n",
      "Total params: 138,357,544\n",
      "Trainable params: 138,357,544\n",
      "Non-trainable params: 0\n",
      "_________________________________________________________________\n"
     ]
    }
   ],
   "source": [
    "import tensorflow as tf\n",
    "from tensorflow import keras\n",
    "from tensorflow.keras.layers import Conv2D, MaxPool2D, Flatten, Dense, Input\n",
    "\n",
    "\n",
    "def conv(filters, kernel_size = 3, activation= tf.nn.relu, padding= 'same'):\n",
    "    return keras.layers.Conv2D(filters = filters, kernel_size = kernel_size, activation= activation, padding= padding)\n",
    "\n",
    "\n",
    "def VGG16():\n",
    "    # Sequential 모델 선언\n",
    "    model = keras.Sequential()\n",
    "    \n",
    "    '''\n",
    "    지시사항 1번\n",
    "    3 x 3 convolution만을 사용하여 VGG16 Net을 완성하세요.\n",
    "    '''\n",
    "    # 첫 번째 Conv Block\n",
    "    # 입력 Shape는 ImageNet 데이터 세트의 크기와 같은 RGB 영상 (224 x 224 x 3)입니다\n",
    "    model.add(Input((224, 224, 3)))\n",
    "    model.add(conv(64))\n",
    "    model.add(conv(64))\n",
    "    model.add(keras.layers.MaxPooling2D(pool_size = 2, strides = 2))\n",
    "    \n",
    "    # 두 번째 Conv Block\n",
    "    model.add(conv(128))\n",
    "    model.add(conv(128))\n",
    "    model.add(keras.layers.MaxPooling2D(pool_size = 2, strides = 2))\n",
    "    \n",
    "    # 세 번째 Conv Block\n",
    "    model.add(conv(256))\n",
    "    model.add(conv(256))\n",
    "    model.add(conv(256))\n",
    "    model.add(keras.layers.MaxPooling2D(pool_size = 2, strides = 2))\n",
    "    \n",
    "    # 네 번째 Conv Block\n",
    "    model.add(conv(512))\n",
    "    model.add(conv(512))\n",
    "    model.add(conv(512))\n",
    "    model.add(keras.layers.MaxPooling2D(pool_size = 2, strides = 2))\n",
    "    \n",
    "    # 다섯 번째 Conv Block\n",
    "    model.add(conv(512))\n",
    "    model.add(conv(512))\n",
    "    model.add(conv(512))\n",
    "    model.add(keras.layers.MaxPooling2D(pool_size = 2, strides = 2))\n",
    "    \n",
    "    # Fully Connected Layer\n",
    "    model.add(keras.layers.Flatten())\n",
    "    model.add(keras.layers.Dense(4096, activation= tf.nn.relu))\n",
    "    model.add(keras.layers.Dense(4096, activation= tf.nn.relu))\n",
    "    model.add(keras.layers.Dense(1000, activation= tf.nn.softmax))\n",
    "    \n",
    "    return model\n",
    "\n",
    "vgg16 = VGG16()\n",
    "vgg16.summary()"
   ]
  }
 ],
 "metadata": {
  "kernelspec": {
   "display_name": "Python 3",
   "language": "python",
   "name": "python3"
  },
  "language_info": {
   "codemirror_mode": {
    "name": "ipython",
    "version": 3
   },
   "file_extension": ".py",
   "mimetype": "text/x-python",
   "name": "python",
   "nbconvert_exporter": "python",
   "pygments_lexer": "ipython3",
   "version": "3.7.7"
  }
 },
 "nbformat": 4,
 "nbformat_minor": 4
}
