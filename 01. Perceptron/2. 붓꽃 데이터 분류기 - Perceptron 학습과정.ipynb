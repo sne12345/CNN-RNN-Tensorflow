{
 "cells": [
  {
   "cell_type": "code",
   "execution_count": 2,
   "metadata": {},
   "outputs": [
    {
     "name": "stdout",
     "output_type": "stream",
     "text": [
      "Test 데이터에 대한 정확도 : 0.93333\n"
     ]
    }
   ],
   "source": [
    "import numpy as np\n",
    "\n",
    "from sklearn.datasets import load_iris\n",
    "from sklearn.metrics import accuracy_score\n",
    "from sklearn.model_selection import train_test_split\n",
    "from sklearn.linear_model import Perceptron\n",
    "\n",
    "# from elice_utils import EliceUtils\n",
    "# elice_utils = EliceUtils()\n",
    "\n",
    "np.random.seed(100)\n",
    "\n",
    "'''\n",
    "1. iris 데이터를 불러오고, \n",
    "   불러온 데이터를 학습용, 테스트용 데이터로 \n",
    "   분리하여 반환하는 함수를 구현합니다.\n",
    "   \n",
    "   Step01. 불러온 데이터를 학습용 데이터 80%, \n",
    "           테스트용 데이터 20%로 분리합니다.\n",
    "           \n",
    "           일관된 결과 확인을 위해 random_state를 \n",
    "           0으로 설정합니다.        \n",
    "'''\n",
    "\n",
    "def load_data():\n",
    "    \n",
    "    iris = load_iris()\n",
    "    \n",
    "    X = iris.data[:,2:4]\n",
    "    Y = iris.target\n",
    "    \n",
    "    X_train, X_test, Y_train, Y_test = train_test_split(X, Y, test_size=0.2, random_state=0)\n",
    "    \n",
    "    return X_train, X_test, Y_train, Y_test\n",
    "    \n",
    "'''\n",
    "2. 사이킷런의 Perceptron 클래스를 사용하여 \n",
    "   Perceptron 모델을 정의하고,\n",
    "   학습용 데이터에 대해 학습시킵니다.\n",
    "   \n",
    "   Step01. 앞서 완성한 함수를 통해 데이터를 불러옵니다.\n",
    "   \n",
    "   Step02. Perceptron 모델을 정의합니다.\n",
    "           max_iter와 eta0를 자유롭게 설정해보세요.\n",
    "   \n",
    "   Step03. 학습용 데이터에 대해 모델을 학습시킵니다.\n",
    "   \n",
    "   Step04. 테스트 데이터에 대한 모델 예측을 수행합니다. \n",
    "'''\n",
    "\n",
    "def main():   \n",
    "    \n",
    "    X_train, X_test, Y_train, Y_test = load_data()\n",
    "    \n",
    "    perceptron = Perceptron(max_iter=50000, eta0=0.0001)\n",
    "    \n",
    "    perceptron.fit(X_train, Y_train)\n",
    "    \n",
    "    pred = perceptron.predict(X_test)\n",
    "    \n",
    "    accuracy = accuracy_score(pred, Y_test)\n",
    "    \n",
    "    print(\"Test 데이터에 대한 정확도 : %0.5f\" % accuracy)\n",
    "    \n",
    "    return X_train, X_test, Y_train, Y_test, pred\n",
    "\n",
    "if __name__ == \"__main__\":\n",
    "    main()"
   ]
  }
 ],
 "metadata": {
  "kernelspec": {
   "display_name": "Python 3",
   "language": "python",
   "name": "python3"
  },
  "language_info": {
   "codemirror_mode": {
    "name": "ipython",
    "version": 3
   },
   "file_extension": ".py",
   "mimetype": "text/x-python",
   "name": "python",
   "nbconvert_exporter": "python",
   "pygments_lexer": "ipython3",
   "version": "3.7.7"
  }
 },
 "nbformat": 4,
 "nbformat_minor": 4
}
