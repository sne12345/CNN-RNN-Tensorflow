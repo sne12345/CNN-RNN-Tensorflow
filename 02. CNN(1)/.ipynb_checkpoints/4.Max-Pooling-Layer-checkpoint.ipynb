{
 "cells": [
  {
   "cell_type": "code",
   "execution_count": 3,
   "metadata": {},
   "outputs": [
    {
     "name": "stdout",
     "output_type": "stream",
     "text": [
      "(1, 2, 2, 1)\n",
      "[[[[ 5.]\n",
      "   [ 7.]]\n",
      "\n",
      "  [[ 8.]\n",
      "   [10.]]]]\n"
     ]
    },
    {
     "data": {
      "image/png": "[encoded data removed]",
      "text/plain": [
       "<Figure size 432x288 with 1 Axes>"
      ]
     },
     "metadata": {
      "needs_background": "light"
     },
     "output_type": "display_data"
    }
   ],
   "source": [
    "import numpy as np\n",
    "import tensorflow as tf\n",
    "import matplotlib.pyplot as plt\n",
    "from PIL import Image\n",
    "from tensorflow import keras\n",
    "\n",
    "def Visualize(image, x, y):\n",
    "    plt.imshow(image.reshape(x,y), cmap ='Greys')\n",
    "    plt.savefig('plot.png')\n",
    "    \n",
    "# 임의의 3 x 3 x 1 영상을 하나 만들어줍니다.\n",
    "image = tf.constant([[[[1],[2],[3],[4]],\n",
    "                   [[4],[5],[6],[7]],\n",
    "                   [[7],[8],[9],[10]],\n",
    "                   [[3],[5],[7],[9]]]], dtype = np.float32)\n",
    "\n",
    "'''\n",
    "지시사항 1번\n",
    "Max Pooling Layer를 선언하세요.\n",
    "''' \n",
    "pool = keras.layers.MaxPool2D(pool_size=(2,2), strides=(2,2), padding='VALID')(image)\n",
    "\n",
    "print(pool.shape)\n",
    "print(pool.numpy())\n",
    "\n",
    "# 원본 영상과 Max Pooling 후 영상을 출력합니다..\n",
    "Visualize(image.numpy(), 4,4)"
   ]
  },
  {
   "cell_type": "code",
   "execution_count": 4,
   "metadata": {},
   "outputs": [
    {
     "data": {
      "image/png": "[encoded data removed]",
      "text/plain": [
       "<Figure size 432x288 with 1 Axes>"
      ]
     },
     "metadata": {
      "needs_background": "light"
     },
     "output_type": "display_data"
    }
   ],
   "source": [
    "Visualize(pool.numpy(), 2,2)"
   ]
  },
  {
   "cell_type": "code",
   "execution_count": null,
   "metadata": {},
   "outputs": [],
   "source": []
  }
 ],
 "metadata": {
  "kernelspec": {
   "display_name": "Python 3",
   "language": "python",
   "name": "python3"
  },
  "language_info": {
   "codemirror_mode": {
    "name": "ipython",
    "version": 3
   },
   "file_extension": ".py",
   "mimetype": "text/x-python",
   "name": "python",
   "nbconvert_exporter": "python",
   "pygments_lexer": "ipython3",
   "version": "3.7.7"
  }
 },
 "nbformat": 4,
 "nbformat_minor": 4
}
