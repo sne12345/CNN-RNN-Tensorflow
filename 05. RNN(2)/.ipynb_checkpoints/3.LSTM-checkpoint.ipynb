{
 "cells": [
  {
   "cell_type": "code",
   "execution_count": 2,
   "metadata": {},
   "outputs": [
    {
     "name": "stdout",
     "output_type": "stream",
     "text": [
      "Epoch 1/3\n",
      "391/391 - 14s - loss: 0.5553 - acc: 0.7273\n",
      "Epoch 2/3\n",
      "391/391 - 12s - loss: 0.3945 - acc: 0.8403\n",
      "Epoch 3/3\n",
      "391/391 - 12s - loss: 0.3130 - acc: 0.8803\n",
      "각 예측의 결과는:  [[0.14765629]\n",
      " [0.9588746 ]\n",
      " [0.7723073 ]\n",
      " ...\n",
      " [0.10790467]\n",
      " [0.08701646]\n",
      " [0.43011642]]\n",
      "각 예측의 결과를 binary로 표현하면:  tf.Tensor(\n",
      "[[0.]\n",
      " [1.]\n",
      " [1.]\n",
      " ...\n",
      " [0.]\n",
      " [0.]\n",
      " [0.]], shape=(25000, 1), dtype=float32)\n",
      "0.83748\n"
     ]
    }
   ],
   "source": [
    "import response\n",
    "from sklearn.model_selection import train_test_split\n",
    "import tensorflow as tf\n",
    "from tensorflow.keras.datasets import imdb\n",
    "from tensorflow.keras.preprocessing.sequence import pad_sequences\n",
    "\n",
    "max_features = 6000\n",
    "max_len =  130\n",
    "embedding_size = 128\n",
    "\n",
    "(input_train, label_train), (input_test, label_test) = imdb.load_data(num_words=max_features)\n",
    "input_train = pad_sequences(input_train, maxlen=max_len)\n",
    "input_test = pad_sequences(input_test, maxlen=max_len)\n",
    "\n",
    "'''\n",
    "지시사항 1번\n",
    "텐서 데이터의 차원을 1차원 늘리는 함수를 만들어 봅니다.\n",
    "''' \n",
    "\n",
    "def expand_dim(_input):\n",
    "    ## EX) (3,2) -> (3,2,1) 과 같이 뒤쪽에 차원을 늘림\n",
    "    return tf.expand_dims(input=_input, axis=-1)\n",
    "    \n",
    "'''\n",
    "지시사항 2~4번\n",
    "2. tensorflow.keras를 활용하여 LSTM 레이어 층을 추가합니다.\n",
    "3. 다음 층과의 계산을 위해 Lambda를 활용하여 출력의 차원을 늘려줍니다. \n",
    "4. Global Max Pooling 층을 추가 합니다.\n",
    "''' \n",
    "def main():\n",
    "    model = tf.keras.Sequential([\n",
    "        tf.keras.layers.Embedding(max_features, embedding_size),\n",
    "        tf.keras.layers.LSTM(units=5),\n",
    "        tf.keras.layers.Lambda(expand_dim),\n",
    "        tf.keras.layers.GlobalMaxPool1D(),\n",
    "        tf.keras.layers.Dense(20, activation=tf.nn.relu),\n",
    "        tf.keras.layers.Dropout(0.05),      # 과적합 방지 \n",
    "        tf.keras.layers.Dense(1, activation = tf.nn.sigmoid),\n",
    "    ])\n",
    "\n",
    "    model.compile(optimizer='adam', loss = 'binary_crossentropy', metrics=['acc'])\n",
    "\n",
    "    # 모델 학습하기\n",
    "    model.fit(input_train, label_train, epochs=3, batch_size=64,verbose=2)\n",
    "\n",
    "    # 테스트데이터 예측하기\n",
    "    prediction = model.predict(input_test)\n",
    "    print(\"각 예측의 결과는: \", prediction)\n",
    "    # 예측 결과 binary로 변환하기\n",
    "    y_pred = tf.round(prediction)\n",
    "    print(\"각 예측의 결과를 binary로 표현하면: \", y_pred)\n",
    "\n",
    "    # 예측결과 평가하기\n",
    "    m = tf.keras.metrics.Accuracy()\n",
    "    m.update_state(label_test, y_pred)\n",
    "    print(m.result().numpy())\n",
    "\n",
    "if __name__=='__main__':\n",
    "    main()"
   ]
  },
  {
   "cell_type": "code",
   "execution_count": null,
   "metadata": {},
   "outputs": [],
   "source": []
  }
 ],
 "metadata": {
  "kernelspec": {
   "display_name": "Python 3",
   "language": "python",
   "name": "python3"
  },
  "language_info": {
   "codemirror_mode": {
    "name": "ipython",
    "version": 3
   },
   "file_extension": ".py",
   "mimetype": "text/x-python",
   "name": "python",
   "nbconvert_exporter": "python",
   "pygments_lexer": "ipython3",
   "version": "3.7.7"
  }
 },
 "nbformat": 4,
 "nbformat_minor": 4
}
