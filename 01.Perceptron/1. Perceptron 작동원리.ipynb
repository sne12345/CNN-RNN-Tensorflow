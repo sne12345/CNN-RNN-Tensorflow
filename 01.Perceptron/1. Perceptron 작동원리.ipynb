{
 "cells": [
  {
   "cell_type": "code",
   "execution_count": 1,
   "metadata": {},
   "outputs": [
    {
     "name": "stdout",
     "output_type": "stream",
     "text": [
      "x_1 : 비가 오는 여부(1 or 0)을 입력하세요.1\n",
      "x_2 : 여친이 만나자고 하는 여부(1 or 0)을 입력하세요.1\n",
      "w_1 : 비를 좋아하는 정도 값(-5 ~ 5)을 입력하세요.5\n",
      "w_2 : 여친을 좋아하는 정도 값(-5 ~ 5)을 입력하세요.5\n",
      "\n",
      "신호의 총합 : 9\n",
      "외출 여부 : 1\n",
      " ==> 외출한다!\n"
     ]
    }
   ],
   "source": [
    "'''\n",
    "\n",
    "지시사항 1번\n",
    "신호의 총합과 외출 여부를 반환하는 Perceptron 함수를 완성합니다.\n",
    "\n",
    "   Step01. Bias는 외출을 좋아하는 정도이며\n",
    "           -1로 설정되어 있습니다.\n",
    "   \n",
    "   Step02. 입력 받은 값과 Bias 값을 이용하여 신호의\n",
    "           총합을 구합니다.\n",
    "           \n",
    "   Step03. 지시한 활성화 함수를 참고하여 외출 여부\n",
    "           (0 or 1)를 반환합니다.\n",
    "\n",
    "'''\n",
    "\n",
    "def Perceptron(x_1,x_2,w_1,w_2):\n",
    "    \n",
    "    bias = -1\n",
    "    \n",
    "    output = bias + x_1 * w_1 + x_2 * w_2\n",
    "    \n",
    "    y = 1 if output > 0 else 0\n",
    "    \n",
    "    return output, y\n",
    "\n",
    "# 값을 입력받는 함수입니다.\n",
    "\n",
    "def input_func():\n",
    "    \n",
    "    # 비 오는 여부(비가 온다 : 1 / 비가 오지 않는다 : 0)\n",
    "    x_1 =  int(input(\"x_1 : 비가 오는 여부(1 or 0)을 입력하세요.\"))\n",
    "    \n",
    "    # 여자친구가 만나자고 하는 여부(만나자고 한다 : 1 / 만나자고 하지 않는다 : 0)\n",
    "    x_2 =  int(input(\"x_2 : 여친이 만나자고 하는 여부(1 or 0)을 입력하세요.\"))\n",
    "    \n",
    "    # 비를 좋아하는 정도의 값(비를 싫어한다 -5 ~ 5 비를 좋아한다)\n",
    "    w_1 =  int(input(\"w_1 : 비를 좋아하는 정도 값(-5 ~ 5)을 입력하세요.\"))\n",
    "    \n",
    "    # 여자친구를 좋아하는 정도의 값(여자친구를 싫어한다 -5 ~ 5 비를 좋아한다)\n",
    "    w_2 =  int(input(\"w_2 : 여친을 좋아하는 정도 값(-5 ~ 5)을 입력하세요.\"))\n",
    "    \n",
    "    return x_1, x_2, w_1, w_2\n",
    "    \n",
    "'''\n",
    "\n",
    "지시사항 2번\n",
    "실행 버튼을 눌러 x1, x2, w1, w2 값을 다양하게 입력해보고,\n",
    "Perceptron함수에서 반환한 신호의 총합과 그에 따른 외출 여부를 확인해보세요\n",
    "\n",
    "'''\n",
    "    \n",
    "def main():\n",
    "    \n",
    "    x_1, x_2, w_1, w_2 = input_func()\n",
    "    \n",
    "    result, go_out = Perceptron(x_1,x_2,w_1,w_2)\n",
    "    \n",
    "    print(\"\\n신호의 총합 : %d\" % result)\n",
    "    \n",
    "    if go_out > 0:\n",
    "        print(\"외출 여부 : %d\\n ==> 외출한다!\" % go_out)\n",
    "    else:\n",
    "        print(\"외출 여부 : %d\\n ==> 외출하지 않는다!\" % go_out)\n",
    "    \n",
    "if __name__ == \"__main__\":\n",
    "    main()"
   ]
  }
 ],
 "metadata": {
  "kernelspec": {
   "display_name": "Python 3",
   "language": "python",
   "name": "python3"
  },
  "language_info": {
   "codemirror_mode": {
    "name": "ipython",
    "version": 3
   },
   "file_extension": ".py",
   "mimetype": "text/x-python",
   "name": "python",
   "nbconvert_exporter": "python",
   "pygments_lexer": "ipython3",
   "version": "3.7.7"
  }
 },
 "nbformat": 4,
 "nbformat_minor": 4
}
