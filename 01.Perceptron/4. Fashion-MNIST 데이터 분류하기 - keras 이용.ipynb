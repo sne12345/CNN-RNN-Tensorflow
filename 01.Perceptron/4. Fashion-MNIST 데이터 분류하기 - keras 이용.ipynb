{
 "cells": [
  {
   "cell_type": "code",
   "execution_count": 6,
   "metadata": {
    "scrolled": false
   },
   "outputs": [
    {
     "name": "stdout",
     "output_type": "stream",
     "text": [
      "Epoch 1/50\n",
      "125/125 [==============================] - 0s 831us/step - loss: 2.0034 - accuracy: 0.3345\n",
      "Epoch 2/50\n",
      "125/125 [==============================] - 0s 785us/step - loss: 1.1944 - accuracy: 0.6599\n",
      "Epoch 3/50\n",
      "125/125 [==============================] - 0s 764us/step - loss: 0.9445 - accuracy: 0.7057\n",
      "Epoch 4/50\n",
      "125/125 [==============================] - 0s 771us/step - loss: 0.8237 - accuracy: 0.7481\n",
      "Epoch 5/50\n",
      "125/125 [==============================] - 0s 769us/step - loss: 0.7854 - accuracy: 0.7467\n",
      "Epoch 6/50\n",
      "125/125 [==============================] - 0s 795us/step - loss: 0.7165 - accuracy: 0.7650\n",
      "Epoch 7/50\n",
      "125/125 [==============================] - 0s 770us/step - loss: 0.6718 - accuracy: 0.7798\n",
      "Epoch 8/50\n",
      "125/125 [==============================] - 0s 801us/step - loss: 0.6585 - accuracy: 0.7877\n",
      "Epoch 9/50\n",
      "125/125 [==============================] - 0s 771us/step - loss: 0.6238 - accuracy: 0.7978\n",
      "Epoch 10/50\n",
      "125/125 [==============================] - 0s 794us/step - loss: 0.6017 - accuracy: 0.8012\n",
      "Epoch 11/50\n",
      "125/125 [==============================] - 0s 773us/step - loss: 0.5956 - accuracy: 0.7974\n",
      "Epoch 12/50\n",
      "125/125 [==============================] - 0s 812us/step - loss: 0.5781 - accuracy: 0.8177\n",
      "Epoch 13/50\n",
      "125/125 [==============================] - 0s 915us/step - loss: 0.5641 - accuracy: 0.8198\n",
      "Epoch 14/50\n",
      "125/125 [==============================] - 0s 884us/step - loss: 0.5527 - accuracy: 0.8212\n",
      "Epoch 15/50\n",
      "125/125 [==============================] - 0s 861us/step - loss: 0.5568 - accuracy: 0.8210\n",
      "Epoch 16/50\n",
      "125/125 [==============================] - 0s 869us/step - loss: 0.5262 - accuracy: 0.8300\n",
      "Epoch 17/50\n",
      "125/125 [==============================] - 0s 888us/step - loss: 0.5315 - accuracy: 0.8230\n",
      "Epoch 18/50\n",
      "125/125 [==============================] - 0s 1ms/step - loss: 0.4932 - accuracy: 0.8430\n",
      "Epoch 19/50\n",
      "125/125 [==============================] - 0s 1ms/step - loss: 0.4927 - accuracy: 0.8386\n",
      "Epoch 20/50\n",
      "125/125 [==============================] - 0s 1ms/step - loss: 0.4877 - accuracy: 0.8350\n",
      "Epoch 21/50\n",
      "125/125 [==============================] - 0s 852us/step - loss: 0.4854 - accuracy: 0.8473\n",
      "Epoch 22/50\n",
      "125/125 [==============================] - 0s 916us/step - loss: 0.4813 - accuracy: 0.8456\n",
      "Epoch 23/50\n",
      "125/125 [==============================] - 0s 871us/step - loss: 0.4724 - accuracy: 0.8475\n",
      "Epoch 24/50\n",
      "125/125 [==============================] - 0s 838us/step - loss: 0.4956 - accuracy: 0.8350\n",
      "Epoch 25/50\n",
      "125/125 [==============================] - 0s 829us/step - loss: 0.4781 - accuracy: 0.8383\n",
      "Epoch 26/50\n",
      "125/125 [==============================] - 0s 865us/step - loss: 0.4507 - accuracy: 0.8520\n",
      "Epoch 27/50\n",
      "125/125 [==============================] - 0s 873us/step - loss: 0.4482 - accuracy: 0.8547\n",
      "Epoch 28/50\n",
      "125/125 [==============================] - 0s 776us/step - loss: 0.4315 - accuracy: 0.8636\n",
      "Epoch 29/50\n",
      "125/125 [==============================] - 0s 791us/step - loss: 0.4271 - accuracy: 0.8712\n",
      "Epoch 30/50\n",
      "125/125 [==============================] - 0s 877us/step - loss: 0.4423 - accuracy: 0.8605\n",
      "Epoch 31/50\n",
      "125/125 [==============================] - 0s 951us/step - loss: 0.4511 - accuracy: 0.8528\n",
      "Epoch 32/50\n",
      "125/125 [==============================] - 0s 861us/step - loss: 0.4161 - accuracy: 0.8683\n",
      "Epoch 33/50\n",
      "125/125 [==============================] - 0s 856us/step - loss: 0.4236 - accuracy: 0.8634\n",
      "Epoch 34/50\n",
      "125/125 [==============================] - 0s 890us/step - loss: 0.4217 - accuracy: 0.8555\n",
      "Epoch 35/50\n",
      "125/125 [==============================] - 0s 874us/step - loss: 0.4189 - accuracy: 0.8647\n",
      "Epoch 36/50\n",
      "125/125 [==============================] - 0s 888us/step - loss: 0.4253 - accuracy: 0.8614\n",
      "Epoch 37/50\n",
      "125/125 [==============================] - 0s 890us/step - loss: 0.4223 - accuracy: 0.8651\n",
      "Epoch 38/50\n",
      "125/125 [==============================] - 0s 903us/step - loss: 0.4003 - accuracy: 0.8691\n",
      "Epoch 39/50\n",
      "125/125 [==============================] - 0s 877us/step - loss: 0.3931 - accuracy: 0.8710\n",
      "Epoch 40/50\n",
      "125/125 [==============================] - 0s 794us/step - loss: 0.3943 - accuracy: 0.8685\n",
      "Epoch 41/50\n",
      "125/125 [==============================] - 0s 806us/step - loss: 0.3983 - accuracy: 0.8634\n",
      "Epoch 42/50\n",
      "125/125 [==============================] - 0s 831us/step - loss: 0.3797 - accuracy: 0.8729\n",
      "Epoch 43/50\n",
      "125/125 [==============================] - 0s 782us/step - loss: 0.3823 - accuracy: 0.8738\n",
      "Epoch 44/50\n",
      "125/125 [==============================] - 0s 820us/step - loss: 0.3777 - accuracy: 0.8675\n",
      "Epoch 45/50\n",
      "125/125 [==============================] - 0s 884us/step - loss: 0.3677 - accuracy: 0.8858\n",
      "Epoch 46/50\n",
      "125/125 [==============================] - 0s 931us/step - loss: 0.3743 - accuracy: 0.8773\n",
      "Epoch 47/50\n",
      "125/125 [==============================] - 0s 886us/step - loss: 0.3719 - accuracy: 0.8750\n",
      "Epoch 48/50\n",
      "125/125 [==============================] - 0s 863us/step - loss: 0.3729 - accuracy: 0.8731\n",
      "Epoch 49/50\n",
      "125/125 [==============================] - 0s 876us/step - loss: 0.3700 - accuracy: 0.8746\n",
      "Epoch 50/50\n",
      "125/125 [==============================] - 0s 858us/step - loss: 0.3430 - accuracy: 0.8914\n",
      "32/32 - 0s - loss: 0.3453 - accuracy: 0.8790\n",
      "\n",
      "- TEST 정확도 : 0.8790000081062317\n"
     ]
    },
    {
     "data": {
      "image/png": "[encoded data removed]",
      "text/plain": [
       "<Figure size 432x288 with 1 Axes>"
      ]
     },
     "metadata": {
      "needs_background": "light"
     },
     "output_type": "display_data"
    },
    {
     "name": "stdout",
     "output_type": "stream",
     "text": [
      "Label:  6.0\n",
      "Prediction:  6\n",
      "[3.2416440e-04 1.5637164e-04 1.5892772e-02 2.9158026e-03 5.6207560e-02\n",
      " 7.4141877e-05 9.2323446e-01 3.8032712e-07 1.1926326e-03 1.8555905e-06]\n"
     ]
    },
    {
     "data": {
      "image/png": "[encoded data removed]",
      "text/plain": [
       "<Figure size 432x288 with 1 Axes>"
      ]
     },
     "metadata": {
      "needs_background": "light"
     },
     "output_type": "display_data"
    },
    {
     "name": "stdout",
     "output_type": "stream",
     "text": [
      "Label:  9.0\n",
      "Prediction:  9\n",
      "[2.7553170e-04 1.6584809e-04 1.3532068e-03 3.5024427e-03 7.5253437e-04\n",
      " 3.2440345e-03 7.5771580e-03 1.8787086e-01 1.0464633e-03 7.9421192e-01]\n"
     ]
    },
    {
     "data": {
      "image/png": "[encoded data removed]",
      "text/plain": [
       "<Figure size 432x288 with 1 Axes>"
      ]
     },
     "metadata": {
      "needs_background": "light"
     },
     "output_type": "display_data"
    },
    {
     "name": "stdout",
     "output_type": "stream",
     "text": [
      "Label:  3.0\n",
      "Prediction:  3\n",
      "[2.8930202e-03 1.1670409e-02 3.2105700e-03 9.7750413e-01 2.3057703e-03\n",
      " 2.4938297e-05 1.9391911e-03 4.1525025e-05 2.3240097e-04 1.7815216e-04]\n"
     ]
    },
    {
     "data": {
      "text/plain": [
       "<Figure size 432x288 with 0 Axes>"
      ]
     },
     "metadata": {},
     "output_type": "display_data"
    }
   ],
   "source": [
    "from __future__ import absolute_import, division, print_function, unicode_literals\n",
    "\n",
    "import tensorflow as tf\n",
    "import matplotlib.pyplot as plt\n",
    "import numpy as np\n",
    "import random\n",
    "import os\n",
    "os.environ['TF_CPP_MIN_LOG_LEVEL'] = '2'\n",
    "\n",
    "# import elice_utils\n",
    "# eu = elice_utils.EliceUtils()\n",
    "\n",
    "# seed를 고정하는 코드입니다.\n",
    "# 정확한 채점을 위하여 값을 변경하지 마세요!\n",
    "np.random.seed(101)\n",
    "tf.random.set_seed(101)\n",
    "\n",
    "\n",
    "\n",
    "def ANN_classifier(x_train, y_train):\n",
    "\n",
    "    '''\n",
    "    지시사항 1번\n",
    "    인공 신경망 분류 모델을 생성합니다.\n",
    "    '''\n",
    "    model = tf.keras.models.Sequential([\n",
    "        \n",
    "        tf.keras.layers.Dense(64, activation='relu'),\n",
    "        tf.keras.layers.Dense(10, activation='softmax')\n",
    "        \n",
    "    ])\n",
    "    \n",
    "    \n",
    "    \n",
    "    '''\n",
    "    지시사항 2번\n",
    "    model 을 학습시킬 `optimizer`와 `loss`를 다음과 같이 설정하세요.\n",
    "    '''\n",
    "    model.compile(loss='sparse_categorical_crossentropy',\n",
    "                  optimizer='SGD',\n",
    "                  metrics=['accuracy'])\n",
    "    \n",
    "    '''\n",
    "    지시사항 3번\n",
    "    학습할 `epochs` 값을 설정하여 train 데이터에 대한 학습을 진행합니다.\n",
    "    '''\n",
    "    model.fit(x_train, y_train, epochs=50)\n",
    "\n",
    "    return model\n",
    "    \n",
    "def main():\n",
    "    \n",
    "    x_train = np.loadtxt('./data/train_images.csv', delimiter =',', dtype = np.float32)\n",
    "    y_train = np.loadtxt('./data/train_labels.csv', delimiter =',', dtype = np.float32)\n",
    "    x_test = np.loadtxt('./data/test_images.csv', delimiter =',', dtype = np.float32)\n",
    "    y_test = np.loadtxt('./data/test_labels.csv', delimiter =',', dtype = np.float32)\n",
    "\n",
    "    \n",
    "    # 이미지 데이터를 0~1범위의 값으로 바꾸어 줍니다.\n",
    "    x_train, x_test = x_train / 255.0, x_test / 255.0\n",
    "    \n",
    "    model = ANN_classifier(x_train,y_train)\n",
    "    \n",
    "    # 학습한 모델을 test 데이터를 활용하여 평가합니다.\n",
    "    loss, test_acc = model.evaluate(x_test,  y_test, verbose=2)\n",
    "    print('\\n- TEST 정확도 :', test_acc)\n",
    "    \n",
    "    # 임의의 3가지 test data의 이미지와 레이블값을 출력하고 예측된 레이블값 출력\n",
    "    predictions = model.predict(x_test)\n",
    "    rand_n = np.random.randint(100, size=3)\n",
    "\n",
    "    for i in rand_n:\n",
    "        img = x_test[i].reshape(28,28)\n",
    "        plt.imshow(img,cmap=\"gray\")\n",
    "        plt.show()\n",
    "        plt.savefig(\"test.png\")\n",
    "#         eu.send_image(\"test.png\")\n",
    "\n",
    "        print(\"Label: \", y_test[i])\n",
    "        print(\"Prediction: \", np.argmax(predictions[i]))\n",
    "        print(predictions[i])\n",
    "        \n",
    "    \n",
    "if __name__ == \"__main__\":\n",
    "    main()\n",
    "\n"
   ]
  }
 ],
 "metadata": {
  "kernelspec": {
   "display_name": "Python 3",
   "language": "python",
   "name": "python3"
  },
  "language_info": {
   "codemirror_mode": {
    "name": "ipython",
    "version": 3
   },
   "file_extension": ".py",
   "mimetype": "text/x-python",
   "name": "python",
   "nbconvert_exporter": "python",
   "pygments_lexer": "ipython3",
   "version": "3.7.7"
  }
 },
 "nbformat": 4,
 "nbformat_minor": 4
}
