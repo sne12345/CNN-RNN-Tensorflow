{
 "cells": [
  {
   "cell_type": "code",
   "execution_count": 3,
   "metadata": {},
   "outputs": [
    {
     "name": "stdout",
     "output_type": "stream",
     "text": [
      "Image shape :  (1, 3, 3, 1)\n",
      "Kernel shape :  (2, 2, 1, 1)\n"
     ]
    },
    {
     "data": {
      "image/png": "[encoded data removed]",
      "text/plain": [
       "<Figure size 432x288 with 1 Axes>"
      ]
     },
     "metadata": {
      "needs_background": "light"
     },
     "output_type": "display_data"
    }
   ],
   "source": [
    "import numpy as np\n",
    "import tensorflow as tf\n",
    "import matplotlib.pyplot as plt\n",
    "from tensorflow import keras\n",
    "\n",
    "def Visualize(image, x, y):\n",
    "    plt.imshow(image.reshape(x,y), cmap ='Greys')\n",
    "    plt.savefig('plot.png')\n",
    "    \n",
    "\n",
    "# 임의의 3 x 3 x 1 영상을 하나 만들어줍니다.\n",
    "image = np.array([[[[1],[2],[3]],\n",
    "                   [[4],[5],[6]],\n",
    "                   [[7],[8],[9]]]], dtype = np.float32)\n",
    "\n",
    "# 합성곱 연산을 위해 임의의 2 x 2 x 1 커널을 하나 만들어줍니다.\n",
    "kernel = np.array([[[[1.]],[[1.]]],\n",
    "                      [[[1.]],[[1.]]]])\n",
    "\n",
    "\n",
    "# 이미지 Shape 출력 : (num of image, width, height, channel)\n",
    "print('Image shape : ', image.shape)\n",
    "# 커널 Shape 출력 : (width, height, channel, num of kernel)\n",
    "print('Kernel shape : ', kernel.shape)\n",
    "# tf.nn.conv2d에 넣기 위해 이미지와 커널의 Shape을 위와 같이 만들었습니다.\n",
    "\n",
    "\n",
    "# Gray 이미지 출력\n",
    "Visualize(image, 3 ,3)\n",
    "\n",
    "kernel_init = tf.constant_initializer(kernel)\n",
    "# Convolution Layer 선언\n",
    "'''\n",
    "지시사항1번 \n",
    "   keras.layers.Conv2D()를 완성하세요.\n",
    "'''\n",
    "conv2d = keras.layers.Conv2D(filters= 1, kernel_size= 2, padding= 'VALID', kernel_initializer= kernel_init)(image)\n",
    "Visualize(conv2d.numpy(), 2,2)\n"
   ]
  },
  {
   "cell_type": "code",
   "execution_count": null,
   "metadata": {},
   "outputs": [],
   "source": []
  }
 ],
 "metadata": {
  "kernelspec": {
   "display_name": "Python 3",
   "language": "python",
   "name": "python3"
  },
  "language_info": {
   "codemirror_mode": {
    "name": "ipython",
    "version": 3
   },
   "file_extension": ".py",
   "mimetype": "text/x-python",
   "name": "python",
   "nbconvert_exporter": "python",
   "pygments_lexer": "ipython3",
   "version": "3.7.7"
  }
 },
 "nbformat": 4,
 "nbformat_minor": 4
}
